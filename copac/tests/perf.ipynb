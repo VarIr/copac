{
 "cells": [
  {
   "cell_type": "markdown",
   "metadata": {},
   "source": [
    "# Performance considerations"
   ]
  },
  {
   "cell_type": "code",
   "execution_count": 2,
   "metadata": {},
   "outputs": [],
   "source": [
    "from time import clock\n",
    "from timeit import timeit\n",
    "import memory_profiler\n",
    "%load_ext memory_profiler\n",
    "\n",
    "import numpy as np\n",
    "from scipy.linalg import eigh\n",
    "from scipy.spatial.distance import squareform, pdist\n",
    "\n",
    "import pandas as pd\n",
    "from matplotlib.pyplot import plot, scatter\n",
    "import seaborn as sns\n",
    "%matplotlib inline\n",
    "\n",
    "from sklearn.datasets import make_blobs\n",
    "from sklearn.neighbors import NearestNeighbors\n",
    "from sklearn.metrics import adjusted_mutual_info_score, accuracy_score, v_measure_score, normalized_mutual_info_score\n"
   ]
  },
  {
   "cell_type": "code",
   "execution_count": 3,
   "metadata": {},
   "outputs": [],
   "source": [
    "from copac import COPAC"
   ]
  },
  {
   "cell_type": "markdown",
   "metadata": {},
   "source": [
    "## Timeit"
   ]
  },
  {
   "cell_type": "code",
   "execution_count": 8,
   "metadata": {},
   "outputs": [
    {
     "name": "stdout",
     "output_type": "stream",
     "text": [
      "21.9 ms ± 5.49 ms per loop (mean ± std. dev. of 7 runs, 100 loops each)\n",
      "48.7 ms ± 1.06 ms per loop (mean ± std. dev. of 7 runs, 10 loops each)\n",
      "658 ms ± 31.9 ms per loop (mean ± std. dev. of 7 runs, 1 loop each)\n",
      "42.1 s ± 3.85 s per loop (mean ± std. dev. of 7 runs, 1 loop each)\n"
     ]
    }
   ],
   "source": [
    "clstr = COPAC()\n",
    "for n in [20, 100, 1000, 10000]:\n",
    "    X = np.random.rand(n, 50)\n",
    "    %timeit clstr.fit_predict(X)"
   ]
  },
  {
   "cell_type": "markdown",
   "metadata": {},
   "source": [
    "## Memit"
   ]
  },
  {
   "cell_type": "code",
   "execution_count": 12,
   "metadata": {},
   "outputs": [
    {
     "name": "stdout",
     "output_type": "stream",
     "text": [
      "peak memory: 347.40 MiB, increment: 0.00 MiB\n",
      "peak memory: 347.40 MiB, increment: 0.00 MiB\n",
      "peak memory: 447.65 MiB, increment: 100.25 MiB\n",
      "peak memory: 636.50 MiB, increment: 289.10 MiB\n",
      "peak memory: 787.20 MiB, increment: 439.80 MiB\n",
      "peak memory: 1155.91 MiB, increment: 802.97 MiB\n",
      "peak memory: 1416.86 MiB, increment: 1063.93 MiB\n",
      "peak memory: 1725.25 MiB, increment: 1372.31 MiB\n",
      "peak memory: 2141.61 MiB, increment: 1788.67 MiB\n",
      "peak memory: 2574.90 MiB, increment: 2221.97 MiB\n"
     ]
    }
   ],
   "source": [
    "clstr = COPAC()\n",
    "for n in range(1, 11):\n",
    "    n = 1000 * n\n",
    "    X = np.random.rand(n, 50)\n",
    "    %memit clstr.fit_predict(X)"
   ]
  },
  {
   "cell_type": "markdown",
   "metadata": {},
   "source": [
    "## Profiling"
   ]
  },
  {
   "cell_type": "markdown",
   "metadata": {},
   "source": [
    "Runtime of (5000, 20) sized matrix: 15 sec.\n",
    "* initial k-NN: 1 sec.\n",
    "* calculate correlation dimension: 4 sec.\n",
    "* correlation distance triu: 4.4 sec.\n",
    "* correlation distance tril: 4.6 sec.\n",
    "* correlation distance rest: 0.7 sec. (incl. DBSCAN)"
   ]
  },
  {
   "cell_type": "code",
   "execution_count": 20,
   "metadata": {
    "collapsed": true
   },
   "outputs": [
    {
     "name": "stdout",
     "output_type": "stream",
     "text": [
      "init took 0.000 sec.\n",
      "k-NN took 0.957 sec.\n",
      "corr dim took 4.134 sec.\n",
      "grouping took 0.001 sec.\n",
      "init took 0.000 sec.\n",
      "triu took 0.000 sec.\n",
      "tril took 0.000 sec.\n",
      "... took 0.000 sec.\n",
      "dbscan took 0.001 sec.\n",
      "rest took 0.000 sec.\n",
      "init took 0.000 sec.\n",
      "triu took 0.000 sec.\n",
      "tril took 0.000 sec.\n",
      "... took 0.000 sec.\n",
      "dbscan took 0.001 sec.\n",
      "rest took 0.000 sec.\n",
      "init took 0.000 sec.\n",
      "triu took 0.000 sec.\n",
      "tril took 0.000 sec.\n",
      "... took 0.000 sec.\n",
      "dbscan took 0.001 sec.\n",
      "rest took 0.000 sec.\n",
      "init took 0.000 sec.\n",
      "triu took 0.000 sec.\n",
      "tril took 0.000 sec.\n",
      "... took 0.000 sec.\n",
      "dbscan took 0.001 sec.\n",
      "rest took 0.000 sec.\n",
      "init took 0.002 sec.\n",
      "triu took 0.076 sec.\n",
      "tril took 0.082 sec.\n",
      "... took 0.005 sec.\n",
      "dbscan took 0.008 sec.\n",
      "rest took 0.000 sec.\n",
      "init took 0.249 sec.\n",
      "triu took 4.363 sec.\n",
      "tril took 4.568 sec.\n",
      "... took 0.225 sec.\n",
      "dbscan took 0.154 sec.\n",
      "rest took 0.000 sec.\n",
      "init took 0.003 sec.\n",
      "triu took 0.002 sec.\n",
      "tril took 0.001 sec.\n",
      "... took 0.008 sec.\n",
      "dbscan took 0.001 sec.\n",
      "rest took 0.000 sec.\n",
      "init took 0.000 sec.\n",
      "triu took 0.000 sec.\n",
      "tril took 0.000 sec.\n",
      "... took 0.000 sec.\n",
      "dbscan took 0.000 sec.\n",
      "rest took 0.000 sec.\n",
      "init took 0.000 sec.\n",
      "triu took 0.000 sec.\n",
      "tril took 0.000 sec.\n",
      "... took 0.000 sec.\n",
      "dbscan took 0.000 sec.\n",
      "rest took 0.000 sec.\n",
      "init took 0.000 sec.\n",
      "triu took 0.000 sec.\n",
      "tril took 0.000 sec.\n",
      "... took 0.000 sec.\n",
      "dbscan took 0.000 sec.\n",
      "rest took 0.000 sec.\n",
      "init took 0.000 sec.\n",
      "triu took 0.000 sec.\n",
      "tril took 0.000 sec.\n",
      "... took 0.000 sec.\n",
      "dbscan took 0.000 sec.\n",
      "rest took 0.000 sec.\n",
      "init took 0.000 sec.\n",
      "triu took 0.000 sec.\n",
      "tril took 0.000 sec.\n",
      "... took 0.000 sec.\n",
      "dbscan took 0.000 sec.\n",
      "rest took 0.000 sec.\n",
      "init took 0.000 sec.\n",
      "triu took 0.000 sec.\n",
      "tril took 0.000 sec.\n",
      "... took 0.000 sec.\n",
      "dbscan took 0.000 sec.\n",
      "rest took 0.000 sec.\n",
      "init took 0.000 sec.\n",
      "triu took 0.000 sec.\n",
      "tril took 0.000 sec.\n",
      "... took 0.000 sec.\n",
      "dbscan took 0.000 sec.\n",
      "rest took 0.000 sec.\n",
      "init took 0.000 sec.\n",
      "triu took 0.000 sec.\n",
      "tril took 0.000 sec.\n",
      "... took 0.000 sec.\n",
      "dbscan took 0.000 sec.\n",
      "rest took 0.000 sec.\n",
      "init took 0.000 sec.\n",
      "triu took 0.000 sec.\n",
      "tril took 0.000 sec.\n",
      "... took 0.000 sec.\n",
      "dbscan took 0.000 sec.\n",
      "rest took 0.000 sec.\n",
      "init took 0.000 sec.\n",
      "triu took 0.000 sec.\n",
      "tril took 0.000 sec.\n",
      "... took 0.000 sec.\n",
      "dbscan took 0.000 sec.\n",
      "rest took 0.000 sec.\n",
      "init took 0.000 sec.\n",
      "triu took 0.000 sec.\n",
      "tril took 0.000 sec.\n",
      "... took 0.000 sec.\n",
      "dbscan took 0.000 sec.\n",
      "rest took 0.000 sec.\n",
      "init took 0.000 sec.\n",
      "triu took 0.000 sec.\n",
      "tril took 0.000 sec.\n",
      "... took 0.000 sec.\n",
      "dbscan took 0.000 sec.\n",
      "rest took 0.000 sec.\n",
      "init took 0.000 sec.\n",
      "triu took 0.000 sec.\n",
      "tril took 0.000 sec.\n",
      "... took 0.000 sec.\n",
      "dbscan took 0.000 sec.\n",
      "rest took 0.000 sec.\n",
      "init took 0.000 sec.\n",
      "triu took 0.000 sec.\n",
      "tril took 0.000 sec.\n",
      "... took 0.000 sec.\n",
      "dbscan took 0.000 sec.\n",
      "rest took 0.000 sec.\n",
      "corr dist matrices took 0.000 sec.\n",
      "Total: 14.864 sec.\n"
     ]
    },
    {
     "data": {
      "text/plain": [
       "array([-1, -1, -1, ..., -1, -1, -1])"
      ]
     },
     "execution_count": 20,
     "metadata": {},
     "output_type": "execute_result"
    }
   ],
   "source": [
    "X = np.random.rand(5000, 20)\n",
    "clstr.fit_predict(X)"
   ]
  },
  {
   "cell_type": "markdown",
   "metadata": {},
   "source": [
    "Runtime of (10000, 20) sized matrix: 49 sec.\n",
    "* initial k-NN: 4 sec.\n",
    "* calculate correlation dimension: 10 sec.\n",
    "* correlation distance triu: 14.6 sec.\n",
    "* correlation distance tril: 18.0 sec.\n",
    "* correlation distance rest: 1.6 sec. (incl. DBSCAN)"
   ]
  },
  {
   "cell_type": "code",
   "execution_count": 21,
   "metadata": {
    "scrolled": true
   },
   "outputs": [
    {
     "name": "stdout",
     "output_type": "stream",
     "text": [
      "init took 0.000 sec.\n",
      "k-NN took 3.784 sec.\n",
      "corr dim took 9.646 sec.\n",
      "grouping took 0.002 sec.\n",
      "init took 0.000 sec.\n",
      "triu took 0.000 sec.\n",
      "tril took 0.000 sec.\n",
      "... took 0.000 sec.\n",
      "dbscan took 0.001 sec.\n",
      "rest took 0.000 sec.\n",
      "init took 0.000 sec.\n",
      "triu took 0.000 sec.\n",
      "tril took 0.000 sec.\n",
      "... took 0.000 sec.\n",
      "dbscan took 0.001 sec.\n",
      "rest took 0.000 sec.\n",
      "init took 0.000 sec.\n",
      "triu took 0.000 sec.\n",
      "tril took 0.000 sec.\n",
      "... took 0.000 sec.\n",
      "dbscan took 0.001 sec.\n",
      "rest took 0.000 sec.\n",
      "init took 0.000 sec.\n",
      "triu took 0.000 sec.\n",
      "tril took 0.000 sec.\n",
      "... took 0.000 sec.\n",
      "dbscan took 0.001 sec.\n",
      "rest took 0.000 sec.\n",
      "init took 0.011 sec.\n",
      "triu took 0.356 sec.\n",
      "tril took 0.382 sec.\n",
      "... took 0.042 sec.\n",
      "dbscan took 0.029 sec.\n",
      "rest took 0.000 sec.\n",
      "init took 0.789 sec.\n",
      "triu took 14.611 sec.\n",
      "tril took 17.959 sec.\n",
      "... took 0.875 sec.\n",
      "dbscan took 0.628 sec.\n",
      "rest took 0.000 sec.\n",
      "init took 0.028 sec.\n",
      "triu took 0.014 sec.\n",
      "tril took 0.009 sec.\n",
      "... took 0.096 sec.\n",
      "dbscan took 0.003 sec.\n",
      "rest took 0.000 sec.\n",
      "init took 0.000 sec.\n",
      "triu took 0.000 sec.\n",
      "tril took 0.000 sec.\n",
      "... took 0.000 sec.\n",
      "dbscan took 0.001 sec.\n",
      "rest took 0.000 sec.\n",
      "init took 0.000 sec.\n",
      "triu took 0.000 sec.\n",
      "tril took 0.000 sec.\n",
      "... took 0.000 sec.\n",
      "dbscan took 0.001 sec.\n",
      "rest took 0.000 sec.\n",
      "init took 0.000 sec.\n",
      "triu took 0.000 sec.\n",
      "tril took 0.000 sec.\n",
      "... took 0.000 sec.\n",
      "dbscan took 0.001 sec.\n",
      "rest took 0.000 sec.\n",
      "init took 0.000 sec.\n",
      "triu took 0.000 sec.\n",
      "tril took 0.000 sec.\n",
      "... took 0.000 sec.\n",
      "dbscan took 0.001 sec.\n",
      "rest took 0.000 sec.\n",
      "init took 0.000 sec.\n",
      "triu took 0.000 sec.\n",
      "tril took 0.000 sec.\n",
      "... took 0.000 sec.\n",
      "dbscan took 0.001 sec.\n",
      "rest took 0.000 sec.\n",
      "init took 0.000 sec.\n",
      "triu took 0.000 sec.\n",
      "tril took 0.000 sec.\n",
      "... took 0.001 sec.\n",
      "dbscan took 0.001 sec.\n",
      "rest took 0.000 sec.\n",
      "init took 0.000 sec.\n",
      "triu took 0.000 sec.\n",
      "tril took 0.000 sec.\n",
      "... took 0.000 sec.\n",
      "dbscan took 0.001 sec.\n",
      "rest took 0.000 sec.\n",
      "init took 0.000 sec.\n",
      "triu took 0.000 sec.\n",
      "tril took 0.000 sec.\n",
      "... took 0.000 sec.\n",
      "dbscan took 0.001 sec.\n",
      "rest took 0.000 sec.\n",
      "init took 0.000 sec.\n",
      "triu took 0.000 sec.\n",
      "tril took 0.000 sec.\n",
      "... took 0.000 sec.\n",
      "dbscan took 0.001 sec.\n",
      "rest took 0.000 sec.\n",
      "init took 0.000 sec.\n",
      "triu took 0.000 sec.\n",
      "tril took 0.000 sec.\n",
      "... took 0.000 sec.\n",
      "dbscan took 0.001 sec.\n",
      "rest took 0.000 sec.\n",
      "init took 0.000 sec.\n",
      "triu took 0.000 sec.\n",
      "tril took 0.000 sec.\n",
      "... took 0.000 sec.\n",
      "dbscan took 0.001 sec.\n",
      "rest took 0.000 sec.\n",
      "init took 0.000 sec.\n",
      "triu took 0.000 sec.\n",
      "tril took 0.000 sec.\n",
      "... took 0.000 sec.\n",
      "dbscan took 0.001 sec.\n",
      "rest took 0.000 sec.\n",
      "init took 0.000 sec.\n",
      "triu took 0.000 sec.\n",
      "tril took 0.000 sec.\n",
      "... took 0.000 sec.\n",
      "dbscan took 0.001 sec.\n",
      "rest took 0.000 sec.\n",
      "init took 0.000 sec.\n",
      "triu took 0.000 sec.\n",
      "tril took 0.000 sec.\n",
      "... took 0.000 sec.\n",
      "dbscan took 0.001 sec.\n",
      "rest took 0.000 sec.\n",
      "corr dist matrices took 0.000 sec.\n",
      "Total: 49.309 sec.\n"
     ]
    },
    {
     "data": {
      "text/plain": [
       "array([-1, -1, -1, ..., -1, -1, -1])"
      ]
     },
     "execution_count": 21,
     "metadata": {},
     "output_type": "execute_result"
    }
   ],
   "source": [
    "X = np.random.rand(10000, 20)\n",
    "clstr.fit_predict(X)"
   ]
  },
  {
   "cell_type": "markdown",
   "metadata": {},
   "source": [
    "Reasonable performance. Most time spent in correlation distance, corr. dimension, k-NN"
   ]
  }
 ],
 "metadata": {
  "kernelspec": {
   "display_name": "Python 3",
   "language": "python",
   "name": "python3"
  },
  "language_info": {
   "codemirror_mode": {
    "name": "ipython",
    "version": 3
   },
   "file_extension": ".py",
   "mimetype": "text/x-python",
   "name": "python",
   "nbconvert_exporter": "python",
   "pygments_lexer": "ipython3",
   "version": "3.6.6"
  }
 },
 "nbformat": 4,
 "nbformat_minor": 2
}
