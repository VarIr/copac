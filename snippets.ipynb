{
 "cells": [
  {
   "cell_type": "markdown",
   "metadata": {},
   "source": [
    "# Snippets"
   ]
  },
  {
   "cell_type": "code",
   "execution_count": 93,
   "metadata": {
    "collapsed": true
   },
   "outputs": [],
   "source": [
    "import numpy as np\n",
    "from scipy.linalg import eig, eigh\n",
    "import pandas as pd\n",
    "from matplotlib.pyplot import plot, scatter\n",
    "import seaborn as sns\n",
    "%matplotlib inline\n",
    "\n",
    "from sklearn.datasets import make_blobs"
   ]
  },
  {
   "cell_type": "code",
   "execution_count": 31,
   "metadata": {},
   "outputs": [
    {
     "data": {
      "text/html": [
       "<div>\n",
       "<style>\n",
       "    .dataframe thead tr:only-child th {\n",
       "        text-align: right;\n",
       "    }\n",
       "\n",
       "    .dataframe thead th {\n",
       "        text-align: left;\n",
       "    }\n",
       "\n",
       "    .dataframe tbody tr th {\n",
       "        vertical-align: top;\n",
       "    }\n",
       "</style>\n",
       "<table border=\"1\" class=\"dataframe\">\n",
       "  <thead>\n",
       "    <tr style=\"text-align: right;\">\n",
       "      <th></th>\n",
       "      <th>x0</th>\n",
       "      <th>x1</th>\n",
       "      <th>x2</th>\n",
       "      <th>y</th>\n",
       "    </tr>\n",
       "  </thead>\n",
       "  <tbody>\n",
       "    <tr>\n",
       "      <th>0</th>\n",
       "      <td>1.131901</td>\n",
       "      <td>-8.755621</td>\n",
       "      <td>-4.911512</td>\n",
       "      <td>1</td>\n",
       "    </tr>\n",
       "    <tr>\n",
       "      <th>1</th>\n",
       "      <td>0.462119</td>\n",
       "      <td>0.502319</td>\n",
       "      <td>6.197519</td>\n",
       "      <td>0</td>\n",
       "    </tr>\n",
       "    <tr>\n",
       "      <th>2</th>\n",
       "      <td>0.402049</td>\n",
       "      <td>-7.192156</td>\n",
       "      <td>-5.763756</td>\n",
       "      <td>1</td>\n",
       "    </tr>\n",
       "    <tr>\n",
       "      <th>3</th>\n",
       "      <td>-0.547936</td>\n",
       "      <td>-7.769898</td>\n",
       "      <td>-6.695929</td>\n",
       "      <td>1</td>\n",
       "    </tr>\n",
       "    <tr>\n",
       "      <th>4</th>\n",
       "      <td>0.307287</td>\n",
       "      <td>1.458504</td>\n",
       "      <td>6.691725</td>\n",
       "      <td>0</td>\n",
       "    </tr>\n",
       "    <tr>\n",
       "      <th>5</th>\n",
       "      <td>2.771479</td>\n",
       "      <td>-6.164512</td>\n",
       "      <td>-7.048576</td>\n",
       "      <td>1</td>\n",
       "    </tr>\n",
       "    <tr>\n",
       "      <th>6</th>\n",
       "      <td>-1.505680</td>\n",
       "      <td>2.344887</td>\n",
       "      <td>6.394227</td>\n",
       "      <td>0</td>\n",
       "    </tr>\n",
       "    <tr>\n",
       "      <th>7</th>\n",
       "      <td>1.058257</td>\n",
       "      <td>-9.583196</td>\n",
       "      <td>-6.310817</td>\n",
       "      <td>1</td>\n",
       "    </tr>\n",
       "    <tr>\n",
       "      <th>8</th>\n",
       "      <td>-0.211048</td>\n",
       "      <td>3.081144</td>\n",
       "      <td>7.251067</td>\n",
       "      <td>0</td>\n",
       "    </tr>\n",
       "    <tr>\n",
       "      <th>9</th>\n",
       "      <td>1.615350</td>\n",
       "      <td>1.422758</td>\n",
       "      <td>5.729304</td>\n",
       "      <td>0</td>\n",
       "    </tr>\n",
       "  </tbody>\n",
       "</table>\n",
       "</div>"
      ],
      "text/plain": [
       "         x0        x1        x2  y\n",
       "0  1.131901 -8.755621 -4.911512  1\n",
       "1  0.462119  0.502319  6.197519  0\n",
       "2  0.402049 -7.192156 -5.763756  1\n",
       "3 -0.547936 -7.769898 -6.695929  1\n",
       "4  0.307287  1.458504  6.691725  0\n",
       "5  2.771479 -6.164512 -7.048576  1\n",
       "6 -1.505680  2.344887  6.394227  0\n",
       "7  1.058257 -9.583196 -6.310817  1\n",
       "8 -0.211048  3.081144  7.251067  0\n",
       "9  1.615350  1.422758  5.729304  0"
      ]
     },
     "execution_count": 31,
     "metadata": {},
     "output_type": "execute_result"
    }
   ],
   "source": [
    "# Generate Gaussian clusters\n",
    "n = 10\n",
    "d = 3\n",
    "c = 2\n",
    "X, y = make_blobs(n_samples=n, n_features=d, centers=c,)\n",
    "df = pd.DataFrame(X, columns=[f'x{x}' for x in range(d)])\n",
    "X_df = df.copy()\n",
    "Xy_df = df.copy()\n",
    "Xy_df['y'] = y\n",
    "Xy_df"
   ]
  },
  {
   "cell_type": "code",
   "execution_count": 33,
   "metadata": {},
   "outputs": [
    {
     "data": {
      "image/png": "[encoded data removed]",
      "text/plain": [
       "<matplotlib.figure.Figure at 0x7f0ca7bc4fd0>"
      ]
     },
     "metadata": {},
     "output_type": "display_data"
    }
   ],
   "source": [
    "sns.pairplot(X_df);"
   ]
  },
  {
   "cell_type": "code",
   "execution_count": 50,
   "metadata": {},
   "outputs": [
    {
     "data": {
      "text/plain": [
       "array([[  1.27658509,  -2.01624108,  -2.82448555],\n",
       "       [ -2.01624108,  24.4016282 ,  30.34727518],\n",
       "       [ -2.82448555,  30.34727518,  40.09304972]])"
      ]
     },
     "execution_count": 50,
     "metadata": {},
     "output_type": "execute_result"
    }
   ],
   "source": [
    "Sigma_C = np.cov(X, rowvar=False, ddof=0)\n",
    "Sigma_C"
   ]
  },
  {
   "cell_type": "code",
   "execution_count": 75,
   "metadata": {},
   "outputs": [
    {
     "data": {
      "text/plain": [
       "array([[  1.27658509,  -2.01624108,  -2.82448555],\n",
       "       [ -2.01624108,  24.4016282 ,  30.34727518],\n",
       "       [ -2.82448555,  30.34727518,  40.09304972]])"
      ]
     },
     "execution_count": 75,
     "metadata": {},
     "output_type": "execute_result"
    }
   ],
   "source": [
    "((X-X.mean(axis=0)).T @ (X-X.mean(axis=0))) / n"
   ]
  },
  {
   "cell_type": "code",
   "execution_count": 98,
   "metadata": {},
   "outputs": [
    {
     "data": {
      "text/plain": [
       "array([[ -1.33226763e-15+0.j,   1.06581410e-14+0.j,   1.50990331e-14+0.j],\n",
       "       [  1.06581410e-14+0.j,  -3.19744231e-14+0.j,  -3.55271368e-14+0.j],\n",
       "       [  1.55431223e-14+0.j,  -3.55271368e-14+0.j,  -4.26325641e-14+0.j]])"
      ]
     },
     "execution_count": 98,
     "metadata": {},
     "output_type": "execute_result"
    }
   ],
   "source": [
    "E_C, V_C = eig(Sigma_C)\n",
    "Sigma_recon = V_C @ np.diag(E_C) @ V_C.T\n",
    "Sigma_recon - Sigma_C"
   ]
  },
  {
   "cell_type": "code",
   "execution_count": 97,
   "metadata": {},
   "outputs": [
    {
     "data": {
      "text/plain": [
       "array([[ -2.22044605e-16,  -2.22044605e-15,  -2.66453526e-15],\n",
       "       [ -2.22044605e-15,  -1.42108547e-14,  -1.06581410e-14],\n",
       "       [ -2.66453526e-15,  -7.10542736e-15,  -7.10542736e-15]])"
      ]
     },
     "execution_count": 97,
     "metadata": {},
     "output_type": "execute_result"
    }
   ],
   "source": [
    "E_Ch, V_Ch = eigh(Sigma_C)\n",
    "Sigma_reconh = V_Ch @ np.diag(E_Ch) @ V_Ch.T\n",
    "Sigma_reconh - Sigma_C"
   ]
  }
 ],
 "metadata": {
  "kernelspec": {
   "display_name": "Python 3",
   "language": "python",
   "name": "python3"
  },
  "language_info": {
   "codemirror_mode": {
    "name": "ipython",
    "version": 3
   },
   "file_extension": ".py",
   "mimetype": "text/x-python",
   "name": "python",
   "nbconvert_exporter": "python",
   "pygments_lexer": "ipython3",
   "version": "3.6.2"
  }
 },
 "nbformat": 4,
 "nbformat_minor": 2
}
