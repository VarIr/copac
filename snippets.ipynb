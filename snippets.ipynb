{
 "cells": [
  {
   "cell_type": "markdown",
   "metadata": {},
   "source": [
    "# Snippets"
   ]
  },
  {
   "cell_type": "code",
   "execution_count": 4,
   "metadata": {},
   "outputs": [],
   "source": [
    "import numpy as np\n",
    "from scipy.linalg import eig, eigh\n",
    "import pandas as pd\n",
    "from matplotlib.pyplot import plot, scatter\n",
    "import seaborn as sns\n",
    "%matplotlib inline\n",
    "\n",
    "from sklearn.datasets import make_blobs\n",
    "from sklearn.neighbors import NearestNeighbors"
   ]
  },
  {
   "cell_type": "code",
   "execution_count": 5,
   "metadata": {},
   "outputs": [
    {
     "data": {
      "text/html": [
       "<div>\n",
       "<style>\n",
       "    .dataframe thead tr:only-child th {\n",
       "        text-align: right;\n",
       "    }\n",
       "\n",
       "    .dataframe thead th {\n",
       "        text-align: left;\n",
       "    }\n",
       "\n",
       "    .dataframe tbody tr th {\n",
       "        vertical-align: top;\n",
       "    }\n",
       "</style>\n",
       "<table border=\"1\" class=\"dataframe\">\n",
       "  <thead>\n",
       "    <tr style=\"text-align: right;\">\n",
       "      <th></th>\n",
       "      <th>x0</th>\n",
       "      <th>x1</th>\n",
       "      <th>x2</th>\n",
       "      <th>y</th>\n",
       "    </tr>\n",
       "  </thead>\n",
       "  <tbody>\n",
       "    <tr>\n",
       "      <th>0</th>\n",
       "      <td>-3.422993</td>\n",
       "      <td>-7.756543</td>\n",
       "      <td>-8.549982</td>\n",
       "      <td>1</td>\n",
       "    </tr>\n",
       "    <tr>\n",
       "      <th>1</th>\n",
       "      <td>-4.076239</td>\n",
       "      <td>-8.000652</td>\n",
       "      <td>-8.421116</td>\n",
       "      <td>1</td>\n",
       "    </tr>\n",
       "    <tr>\n",
       "      <th>2</th>\n",
       "      <td>-3.961099</td>\n",
       "      <td>6.151302</td>\n",
       "      <td>-10.758919</td>\n",
       "      <td>0</td>\n",
       "    </tr>\n",
       "    <tr>\n",
       "      <th>3</th>\n",
       "      <td>-0.525790</td>\n",
       "      <td>3.306599</td>\n",
       "      <td>-10.170141</td>\n",
       "      <td>0</td>\n",
       "    </tr>\n",
       "    <tr>\n",
       "      <th>4</th>\n",
       "      <td>-1.340521</td>\n",
       "      <td>4.157119</td>\n",
       "      <td>-8.535605</td>\n",
       "      <td>0</td>\n",
       "    </tr>\n",
       "    <tr>\n",
       "      <th>5</th>\n",
       "      <td>-3.450854</td>\n",
       "      <td>-6.164026</td>\n",
       "      <td>-8.836956</td>\n",
       "      <td>1</td>\n",
       "    </tr>\n",
       "    <tr>\n",
       "      <th>6</th>\n",
       "      <td>-2.187732</td>\n",
       "      <td>3.333521</td>\n",
       "      <td>-9.132305</td>\n",
       "      <td>0</td>\n",
       "    </tr>\n",
       "    <tr>\n",
       "      <th>7</th>\n",
       "      <td>-5.053968</td>\n",
       "      <td>-5.920158</td>\n",
       "      <td>-7.251637</td>\n",
       "      <td>1</td>\n",
       "    </tr>\n",
       "    <tr>\n",
       "      <th>8</th>\n",
       "      <td>-3.719701</td>\n",
       "      <td>4.084073</td>\n",
       "      <td>-10.381767</td>\n",
       "      <td>0</td>\n",
       "    </tr>\n",
       "    <tr>\n",
       "      <th>9</th>\n",
       "      <td>-4.831207</td>\n",
       "      <td>-7.022668</td>\n",
       "      <td>-7.570413</td>\n",
       "      <td>1</td>\n",
       "    </tr>\n",
       "  </tbody>\n",
       "</table>\n",
       "</div>"
      ],
      "text/plain": [
       "         x0        x1         x2  y\n",
       "0 -3.422993 -7.756543  -8.549982  1\n",
       "1 -4.076239 -8.000652  -8.421116  1\n",
       "2 -3.961099  6.151302 -10.758919  0\n",
       "3 -0.525790  3.306599 -10.170141  0\n",
       "4 -1.340521  4.157119  -8.535605  0\n",
       "5 -3.450854 -6.164026  -8.836956  1\n",
       "6 -2.187732  3.333521  -9.132305  0\n",
       "7 -5.053968 -5.920158  -7.251637  1\n",
       "8 -3.719701  4.084073 -10.381767  0\n",
       "9 -4.831207 -7.022668  -7.570413  1"
      ]
     },
     "execution_count": 5,
     "metadata": {},
     "output_type": "execute_result"
    }
   ],
   "source": [
    "# Generate Gaussian clusters\n",
    "n = 10\n",
    "d = 3\n",
    "c = 2\n",
    "X, y = make_blobs(n_samples=n, n_features=d, centers=c, random_state=1)\n",
    "df = pd.DataFrame(X, columns=[f'x{x}' for x in range(d)])\n",
    "X_df = df.copy()\n",
    "Xy_df = df.copy()\n",
    "Xy_df['y'] = y\n",
    "Xy_df"
   ]
  },
  {
   "cell_type": "code",
   "execution_count": 6,
   "metadata": {},
   "outputs": [
    {
     "data": {
      "image/png": "[encoded data removed]",
      "text/plain": [
       "<matplotlib.figure.Figure at 0x7f9f07f0cfd0>"
      ]
     },
     "metadata": {},
     "output_type": "display_data"
    }
   ],
   "source": [
    "sns.pairplot(X_df);"
   ]
  },
  {
   "cell_type": "code",
   "execution_count": 7,
   "metadata": {},
   "outputs": [
    {
     "data": {
      "text/plain": [
       "array([[  1.94290854,   4.50718734,  -0.65423316],\n",
       "       [  4.50718734,  32.12506576,  -4.78186721],\n",
       "       [ -0.65423316,  -4.78186721,   1.2254871 ]])"
      ]
     },
     "execution_count": 7,
     "metadata": {},
     "output_type": "execute_result"
    }
   ],
   "source": [
    "Sigma_C = np.cov(X, rowvar=False, ddof=0)\n",
    "Sigma_C"
   ]
  },
  {
   "cell_type": "code",
   "execution_count": 8,
   "metadata": {},
   "outputs": [
    {
     "data": {
      "text/plain": [
       "array([[  1.94290854,   4.50718734,  -0.65423316],\n",
       "       [  4.50718734,  32.12506576,  -4.78186721],\n",
       "       [ -0.65423316,  -4.78186721,   1.2254871 ]])"
      ]
     },
     "execution_count": 8,
     "metadata": {},
     "output_type": "execute_result"
    }
   ],
   "source": [
    "((X-X.mean(axis=0)).T @ (X-X.mean(axis=0))) / n"
   ]
  },
  {
   "cell_type": "code",
   "execution_count": 9,
   "metadata": {},
   "outputs": [
    {
     "data": {
      "text/plain": [
       "array([[  4.66293670e-15+0.j,   1.86517468e-14+0.j,  -2.88657986e-15+0.j],\n",
       "       [  1.86517468e-14+0.j,   2.13162821e-14+0.j,  -4.44089210e-15+0.j],\n",
       "       [ -2.88657986e-15+0.j,  -3.55271368e-15+0.j,   6.66133815e-16+0.j]])"
      ]
     },
     "execution_count": 9,
     "metadata": {},
     "output_type": "execute_result"
    }
   ],
   "source": [
    "E_C, V_C = eig(Sigma_C)\n",
    "Sigma_recon = V_C @ np.diag(E_C) @ V_C.T\n",
    "Sigma_recon - Sigma_C"
   ]
  },
  {
   "cell_type": "code",
   "execution_count": 10,
   "metadata": {},
   "outputs": [
    {
     "data": {
      "text/plain": [
       "array([[  0.00000000e+00,   3.55271368e-15,  -5.55111512e-16],\n",
       "       [  3.55271368e-15,   7.10542736e-15,   0.00000000e+00],\n",
       "       [ -6.66133815e-16,   0.00000000e+00,   2.22044605e-16]])"
      ]
     },
     "execution_count": 10,
     "metadata": {},
     "output_type": "execute_result"
    }
   ],
   "source": [
    "E_Ch, V_Ch = eigh(Sigma_C)\n",
    "Sigma_reconh = V_Ch @ np.diag(E_Ch) @ V_Ch.T\n",
    "Sigma_reconh - Sigma_C"
   ]
  },
  {
   "cell_type": "markdown",
   "metadata": {},
   "source": [
    "## kNN"
   ]
  },
  {
   "cell_type": "code",
   "execution_count": 11,
   "metadata": {
    "collapsed": true
   },
   "outputs": [],
   "source": [
    "from sklearn.neighbors import NearestNeighbors"
   ]
  },
  {
   "cell_type": "code",
   "execution_count": 12,
   "metadata": {
    "collapsed": true
   },
   "outputs": [],
   "source": [
    "k = 5\n",
    "N_JOBS = 4\n",
    "nn = NearestNeighbors(n_neighbors=k, metric='minkowski', n_jobs=N_JOBS)"
   ]
  },
  {
   "cell_type": "code",
   "execution_count": 13,
   "metadata": {},
   "outputs": [
    {
     "data": {
      "text/plain": [
       "NearestNeighbors(algorithm='auto', leaf_size=30, metric='minkowski',\n",
       "         metric_params=None, n_jobs=4, n_neighbors=5, p=2, radius=1.0)"
      ]
     },
     "execution_count": 13,
     "metadata": {},
     "output_type": "execute_result"
    }
   ],
   "source": [
    "nn.fit(X)"
   ]
  },
  {
   "cell_type": "code",
   "execution_count": 18,
   "metadata": {},
   "outputs": [],
   "source": [
    "dist, knns = nn.kneighbors()"
   ]
  },
  {
   "cell_type": "code",
   "execution_count": 19,
   "metadata": {},
   "outputs": [
    {
     "data": {
      "text/plain": [
       "array([[1, 5, 9, 7, 6],\n",
       "       [0, 9, 5, 7, 6],\n",
       "       [8, 6, 4, 3, 5],\n",
       "       [6, 4, 8, 2, 5],\n",
       "       [6, 3, 8, 2, 5],\n",
       "       [0, 1, 9, 7, 6],\n",
       "       [4, 3, 8, 2, 5],\n",
       "       [9, 5, 1, 0, 6],\n",
       "       [6, 2, 4, 3, 5],\n",
       "       [7, 1, 0, 5, 6]])"
      ]
     },
     "execution_count": 19,
     "metadata": {},
     "output_type": "execute_result"
    }
   ],
   "source": [
    "knns"
   ]
  },
  {
   "cell_type": "code",
   "execution_count": 21,
   "metadata": {},
   "outputs": [],
   "source": [
    "for knn in knns:\n",
    "    X_knn = X[knn]"
   ]
  },
  {
   "cell_type": "code",
   "execution_count": 22,
   "metadata": {},
   "outputs": [
    {
     "data": {
      "text/plain": [
       "array([[-5.05396772, -5.92015847, -7.25163738],\n",
       "       [-4.07623877, -8.00065162, -8.42111618],\n",
       "       [-3.42299308, -7.75654294, -8.54998163],\n",
       "       [-3.45085421, -6.16402623, -8.83695596],\n",
       "       [-2.18773166,  3.33352125, -9.13230487]])"
      ]
     },
     "execution_count": 22,
     "metadata": {},
     "output_type": "execute_result"
    }
   ],
   "source": [
    "X_knn"
   ]
  },
  {
   "cell_type": "code",
   "execution_count": 23,
   "metadata": {},
   "outputs": [
    {
     "data": {
      "text/plain": [
       "(10, 3)"
      ]
     },
     "execution_count": 23,
     "metadata": {},
     "output_type": "execute_result"
    }
   ],
   "source": [
    "X.shape"
   ]
  },
  {
   "cell_type": "code",
   "execution_count": 28,
   "metadata": {},
   "outputs": [
    {
     "data": {
      "text/plain": [
       "array([[ -3.42299308,  -7.75654294,  -8.54998163],\n",
       "       [ -4.07623877,  -8.00065162,  -8.42111618],\n",
       "       [ -3.9610986 ,   6.15130163, -10.7589194 ],\n",
       "       [ -0.52579046,   3.3065986 , -10.17014071],\n",
       "       [ -1.34052081,   4.15711949,  -8.53560457],\n",
       "       [ -3.45085421,  -6.16402623,  -8.83695596],\n",
       "       [ -2.18773166,   3.33352125,  -9.13230487],\n",
       "       [ -5.05396772,  -5.92015847,  -7.25163738],\n",
       "       [ -3.71970062,   4.08407266, -10.38176686],\n",
       "       [ -4.83120697,  -7.02266844,  -7.57041289]])"
      ]
     },
     "execution_count": 28,
     "metadata": {},
     "output_type": "execute_result"
    }
   ],
   "source": [
    "X[:, ...]"
   ]
  },
  {
   "cell_type": "code",
   "execution_count": null,
   "metadata": {
    "collapsed": true
   },
   "outputs": [],
   "source": [
    "E_Ch, V_Ch = eigh(Sigma_C)"
   ]
  },
  {
   "cell_type": "code",
   "execution_count": 29,
   "metadata": {},
   "outputs": [
    {
     "data": {
      "text/plain": [
       "array([  0.50147794,   1.28664582,  33.50533763])"
      ]
     },
     "execution_count": 29,
     "metadata": {},
     "output_type": "execute_result"
    }
   ],
   "source": [
    "E_Ch"
   ]
  },
  {
   "cell_type": "code",
   "execution_count": 63,
   "metadata": {
    "collapsed": true
   },
   "outputs": [],
   "source": [
    "e_hat = (np.arange(d) > lambda_P).astype(int)"
   ]
  },
  {
   "cell_type": "code",
   "execution_count": 64,
   "metadata": {},
   "outputs": [
    {
     "data": {
      "text/plain": [
       "array([0, 0, 1])"
      ]
     },
     "execution_count": 64,
     "metadata": {},
     "output_type": "execute_result"
    }
   ],
   "source": [
    "e_hat"
   ]
  },
  {
   "cell_type": "code",
   "execution_count": 38,
   "metadata": {},
   "outputs": [
    {
     "data": {
      "text/plain": [
       "array([ 0.94933555,  0.98579119,  1.        ])"
      ]
     },
     "execution_count": 38,
     "metadata": {},
     "output_type": "execute_result"
    }
   ],
   "source": [
    "E_Ch = np.sort(E_Ch)[::-1]\n",
    "expl = np.cumsum(E_Ch) / np.sum(E_Ch)\n",
    "expl"
   ]
  },
  {
   "cell_type": "code",
   "execution_count": 42,
   "metadata": {},
   "outputs": [
    {
     "data": {
      "text/plain": [
       "1"
      ]
     },
     "execution_count": 42,
     "metadata": {},
     "output_type": "execute_result"
    }
   ],
   "source": [
    "lambda_P = np.searchsorted(expl, 0.95, side='left')\n",
    "lambda_P"
   ]
  },
  {
   "cell_type": "code",
   "execution_count": 43,
   "metadata": {},
   "outputs": [
    {
     "data": {
      "text/plain": [
       "array([1, 2, 2, 3, 2, 1, 1, 2, 3, 3])"
      ]
     },
     "execution_count": 43,
     "metadata": {},
     "output_type": "execute_result"
    }
   ],
   "source": [
    "np.digitize([0,1,1,2,1,0,0,1,2,2], np.arange(d), )"
   ]
  },
  {
   "cell_type": "code",
   "execution_count": 49,
   "metadata": {
    "collapsed": true
   },
   "outputs": [],
   "source": [
    "tmp = np.array([0,1,1,2,1,0,0,1,2,2])"
   ]
  },
  {
   "cell_type": "code",
   "execution_count": 50,
   "metadata": {},
   "outputs": [
    {
     "data": {
      "text/plain": [
       "array([0, 5, 6, 1, 2, 4, 7, 3, 8, 9])"
      ]
     },
     "execution_count": 50,
     "metadata": {},
     "output_type": "execute_result"
    }
   ],
   "source": [
    "argsorted = np.argsort(tmp)\n",
    "argsorted"
   ]
  },
  {
   "cell_type": "code",
   "execution_count": 52,
   "metadata": {},
   "outputs": [
    {
     "data": {
      "text/plain": [
       "array([0, 0, 0, 1, 1, 1, 1, 2, 2, 2])"
      ]
     },
     "execution_count": 52,
     "metadata": {},
     "output_type": "execute_result"
    }
   ],
   "source": [
    "tmp[argsorted]"
   ]
  },
  {
   "cell_type": "code",
   "execution_count": 57,
   "metadata": {},
   "outputs": [
    {
     "data": {
      "text/plain": [
       "array([3, 7])"
      ]
     },
     "execution_count": 57,
     "metadata": {},
     "output_type": "execute_result"
    }
   ],
   "source": [
    "edges, _ = np.histogram(tmp[argsorted], bins=np.arange(3))\n",
    "edges"
   ]
  },
  {
   "cell_type": "code",
   "execution_count": 59,
   "metadata": {},
   "outputs": [],
   "source": [
    "D = np.split(argsorted, edges)"
   ]
  },
  {
   "cell_type": "code",
   "execution_count": 67,
   "metadata": {},
   "outputs": [
    {
     "data": {
      "text/plain": [
       "[array([0, 5, 6]), array([1, 2, 4, 7]), array([3, 8, 9])]"
      ]
     },
     "execution_count": 67,
     "metadata": {},
     "output_type": "execute_result"
    }
   ],
   "source": [
    "D"
   ]
  },
  {
   "cell_type": "code",
   "execution_count": 60,
   "metadata": {
    "scrolled": true
   },
   "outputs": [
    {
     "data": {
      "text/plain": [
       "array([0, 5, 6])"
      ]
     },
     "execution_count": 60,
     "metadata": {},
     "output_type": "execute_result"
    }
   ],
   "source": [
    "D[0]"
   ]
  },
  {
   "cell_type": "code",
   "execution_count": 66,
   "metadata": {},
   "outputs": [
    {
     "data": {
      "text/plain": [
       "5"
      ]
     },
     "execution_count": 66,
     "metadata": {},
     "output_type": "execute_result"
    }
   ],
   "source": [
    "np.max([0, 5])"
   ]
  }
 ],
 "metadata": {
  "kernelspec": {
   "display_name": "Python 3",
   "language": "python",
   "name": "python3"
  },
  "language_info": {
   "codemirror_mode": {
    "name": "ipython",
    "version": 3
   },
   "file_extension": ".py",
   "mimetype": "text/x-python",
   "name": "python",
   "nbconvert_exporter": "python",
   "pygments_lexer": "ipython3",
   "version": "3.6.2"
  }
 },
 "nbformat": 4,
 "nbformat_minor": 2
}
